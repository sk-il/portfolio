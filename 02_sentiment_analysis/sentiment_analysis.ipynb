{
 "cells": [
  {
   "cell_type": "markdown",
   "metadata": {},
   "source": [
    "## Описание проекта\n",
    "\n",
    "Перед нами стоит задача бинарной классификации - определение тональности отзывов на электронику на английском языке. Единицами размечены положительные отзывы, нулями - отрицательные.\n",
    "\n",
    "### 1. Загрузка данных"
   ]
  },
  {
   "cell_type": "code",
   "execution_count": 1,
   "metadata": {},
   "outputs": [],
   "source": [
    "import pandas as pd\n",
    "import numpy as np\n",
    "import re\n",
    "import nltk\n",
    "from sklearn.feature_extraction.text import TfidfVectorizer\n",
    "from sklearn.metrics import accuracy_score\n",
    "from sklearn.linear_model import LogisticRegression, SGDClassifier\n",
    "from sklearn.svm import LinearSVC\n",
    "from sklearn.model_selection import GridSearchCV, RandomizedSearchCV, KFold, cross_val_score, train_test_split\n",
    "from sklearn.ensemble import StackingClassifier\n",
    "import torch\n",
    "from transformers import DistilBertModel, DistilBertTokenizer"
   ]
  },
  {
   "cell_type": "code",
   "execution_count": 2,
   "metadata": {},
   "outputs": [
    {
     "name": "stdout",
     "output_type": "stream",
     "text": [
      "<class 'pandas.core.frame.DataFrame'>\n",
      "RangeIndex: 2000 entries, 0 to 1999\n",
      "Data columns (total 2 columns):\n",
      " #   Column  Non-Null Count  Dtype \n",
      "---  ------  --------------  ----- \n",
      " 0   text    2000 non-null   object\n",
      " 1   id      2000 non-null   int64 \n",
      "dtypes: int64(1), object(1)\n",
      "memory usage: 31.4+ KB\n"
     ]
    },
    {
     "data": {
      "text/html": [
       "<div>\n",
       "<style scoped>\n",
       "    .dataframe tbody tr th:only-of-type {\n",
       "        vertical-align: middle;\n",
       "    }\n",
       "\n",
       "    .dataframe tbody tr th {\n",
       "        vertical-align: top;\n",
       "    }\n",
       "\n",
       "    .dataframe thead th {\n",
       "        text-align: right;\n",
       "    }\n",
       "</style>\n",
       "<table border=\"1\" class=\"dataframe\">\n",
       "  <thead>\n",
       "    <tr style=\"text-align: right;\">\n",
       "      <th></th>\n",
       "      <th>text</th>\n",
       "      <th>id</th>\n",
       "    </tr>\n",
       "  </thead>\n",
       "  <tbody>\n",
       "    <tr>\n",
       "      <th>0</th>\n",
       "      <td>2 . take around 10,000 640x480 pictures .</td>\n",
       "      <td>1</td>\n",
       "    </tr>\n",
       "    <tr>\n",
       "      <th>1</th>\n",
       "      <td>i downloaded a trial version of computer assoc...</td>\n",
       "      <td>1</td>\n",
       "    </tr>\n",
       "    <tr>\n",
       "      <th>2</th>\n",
       "      <td>the wrt54g plus the hga7t is a perfect solutio...</td>\n",
       "      <td>1</td>\n",
       "    </tr>\n",
       "    <tr>\n",
       "      <th>3</th>\n",
       "      <td>i dont especially like how music files are uns...</td>\n",
       "      <td>0</td>\n",
       "    </tr>\n",
       "    <tr>\n",
       "      <th>4</th>\n",
       "      <td>i was using the cheapie pail ... and it worked...</td>\n",
       "      <td>1</td>\n",
       "    </tr>\n",
       "  </tbody>\n",
       "</table>\n",
       "</div>"
      ],
      "text/plain": [
       "                                                text  id\n",
       "0          2 . take around 10,000 640x480 pictures .   1\n",
       "1  i downloaded a trial version of computer assoc...   1\n",
       "2  the wrt54g plus the hga7t is a perfect solutio...   1\n",
       "3  i dont especially like how music files are uns...   0\n",
       "4  i was using the cheapie pail ... and it worked...   1"
      ]
     },
     "execution_count": 2,
     "metadata": {},
     "output_type": "execute_result"
    }
   ],
   "source": [
    "train = pd.read_csv('products_sentiment_train.tsv', sep='\\t', header=None, names=['text', 'id'])\n",
    "test = pd.read_csv('products_sentiment_test.tsv', sep='\\t')\n",
    "sample_submission = pd.read_csv('products_sentiment_sample_submission.csv')\n",
    "\n",
    "train.info()\n",
    "train.head()"
   ]
  },
  {
   "cell_type": "code",
   "execution_count": 3,
   "metadata": {},
   "outputs": [
    {
     "name": "stdout",
     "output_type": "stream",
     "text": [
      "<class 'pandas.core.frame.DataFrame'>\n",
      "RangeIndex: 500 entries, 0 to 499\n",
      "Data columns (total 2 columns):\n",
      " #   Column  Non-Null Count  Dtype \n",
      "---  ------  --------------  ----- \n",
      " 0   Id      500 non-null    int64 \n",
      " 1   text    500 non-null    object\n",
      "dtypes: int64(1), object(1)\n",
      "memory usage: 7.9+ KB\n"
     ]
    },
    {
     "data": {
      "text/html": [
       "<div>\n",
       "<style scoped>\n",
       "    .dataframe tbody tr th:only-of-type {\n",
       "        vertical-align: middle;\n",
       "    }\n",
       "\n",
       "    .dataframe tbody tr th {\n",
       "        vertical-align: top;\n",
       "    }\n",
       "\n",
       "    .dataframe thead th {\n",
       "        text-align: right;\n",
       "    }\n",
       "</style>\n",
       "<table border=\"1\" class=\"dataframe\">\n",
       "  <thead>\n",
       "    <tr style=\"text-align: right;\">\n",
       "      <th></th>\n",
       "      <th>Id</th>\n",
       "      <th>text</th>\n",
       "    </tr>\n",
       "  </thead>\n",
       "  <tbody>\n",
       "    <tr>\n",
       "      <th>0</th>\n",
       "      <td>0</td>\n",
       "      <td>so , why the small digital elph , rather than ...</td>\n",
       "    </tr>\n",
       "    <tr>\n",
       "      <th>1</th>\n",
       "      <td>1</td>\n",
       "      <td>3/4 way through the first disk we played on it...</td>\n",
       "    </tr>\n",
       "    <tr>\n",
       "      <th>2</th>\n",
       "      <td>2</td>\n",
       "      <td>better for the zen micro is outlook compatibil...</td>\n",
       "    </tr>\n",
       "    <tr>\n",
       "      <th>3</th>\n",
       "      <td>3</td>\n",
       "      <td>6 . play gameboy color games on it with goboy .</td>\n",
       "    </tr>\n",
       "    <tr>\n",
       "      <th>4</th>\n",
       "      <td>4</td>\n",
       "      <td>likewise , i 've heard norton 2004 professiona...</td>\n",
       "    </tr>\n",
       "  </tbody>\n",
       "</table>\n",
       "</div>"
      ],
      "text/plain": [
       "   Id                                               text\n",
       "0   0  so , why the small digital elph , rather than ...\n",
       "1   1  3/4 way through the first disk we played on it...\n",
       "2   2  better for the zen micro is outlook compatibil...\n",
       "3   3    6 . play gameboy color games on it with goboy .\n",
       "4   4  likewise , i 've heard norton 2004 professiona..."
      ]
     },
     "execution_count": 3,
     "metadata": {},
     "output_type": "execute_result"
    }
   ],
   "source": [
    "test.info()\n",
    "test.head()"
   ]
  },
  {
   "cell_type": "code",
   "execution_count": 4,
   "metadata": {},
   "outputs": [
    {
     "data": {
      "text/plain": [
       "0.637"
      ]
     },
     "execution_count": 4,
     "metadata": {},
     "output_type": "execute_result"
    }
   ],
   "source": [
    "# посмотрим на соотношение классов\n",
    "\n",
    "train.id.sum() / len(train.id)"
   ]
  },
  {
   "cell_type": "markdown",
   "metadata": {},
   "source": [
    "Есть небольшой дисбаланс - учтем это при построении моделей."
   ]
  },
  {
   "cell_type": "code",
   "execution_count": 5,
   "metadata": {},
   "outputs": [
    {
     "data": {
      "text/plain": [
       "0"
      ]
     },
     "execution_count": 5,
     "metadata": {},
     "output_type": "execute_result"
    }
   ],
   "source": [
    "# проверим дублинкаты\n",
    "\n",
    "train.duplicated().sum()"
   ]
  },
  {
   "cell_type": "markdown",
   "metadata": {},
   "source": [
    "### 2. Предобработка\n",
    "\n",
    "Комментарии на английском, поэтому для обработки данных буду использовать библиотеку nltk.\n",
    "\n",
    "Дла начала предобработаю текст комментариев - уберу лишние символы, приведу к нижнему регистру и лемматизарую."
   ]
  },
  {
   "cell_type": "code",
   "execution_count": 6,
   "metadata": {},
   "outputs": [],
   "source": [
    "def preprocessing(data):\n",
    "    corpus = []\n",
    "\n",
    "    for i in range(len(data)):\n",
    "    \n",
    "        # оставляем только буквы латинского алфавита и приводим к нижнему регистру\n",
    "        text = re.sub('[^a-zA-Z]', ' ', data[i]).lower()\n",
    "    \n",
    "        # преобразуем комментарий в список\n",
    "        text = text.split()\n",
    "    \n",
    "        # лемматизируем\n",
    "        l = nltk.stem.WordNetLemmatizer()\n",
    "        text = [str(l.lemmatize(word, pos='v')) for word in text]\n",
    "    \n",
    "        # собираем список обратно\n",
    "        text = ' '.join(text)\n",
    "    \n",
    "        corpus.append(text)\n",
    "        \n",
    "    return corpus\n",
    "\n",
    "corpus = preprocessing(train.text)"
   ]
  },
  {
   "cell_type": "markdown",
   "metadata": {},
   "source": [
    "Посмотрим что получилось."
   ]
  },
  {
   "cell_type": "code",
   "execution_count": 7,
   "metadata": {},
   "outputs": [
    {
     "name": "stdout",
     "output_type": "stream",
     "text": [
      "2 . take around 10,000 640x480 pictures .\n",
      "take around x picture\n",
      "\n",
      "i downloaded a trial version of computer associates ez firewall and antivirus and fell in love with a computer security system all over again .\n",
      "i download a trial version of computer associate ez firewall and antivirus and fell in love with a computer security system all over again\n",
      "\n",
      "the wrt54g plus the hga7t is a perfect solution if you need wireless coverage in a wider area or for a hard-walled house as was my case .\n",
      "the wrt g plus the hga t be a perfect solution if you need wireless coverage in a wider area or for a hard wall house as be my case\n"
     ]
    }
   ],
   "source": [
    "print(train['text'][0]) \n",
    "print(corpus[0])\n",
    "print()\n",
    "print(train['text'][1]) \n",
    "print(corpus[1])\n",
    "print()\n",
    "print(train['text'][2]) \n",
    "print(corpus[2])"
   ]
  },
  {
   "cell_type": "markdown",
   "metadata": {},
   "source": [
    "Выглядит неплохо. Остался некоторый шум в виде артиклей, междометий, союзов, различных аббревиатур и названий, посмотрим как это повлияет на предсказания далее\n",
    "\n",
    "Для конвертации текста в векторы было испробовано два способа - CountVectorizer (простой мешок слов - создает словарь из всех слов и считает количество вхождений каждого слова в объекте) и TfidfVectorizer (помимо количества появления слова в объекте, учитывает количество вхождений этого слова во всем корпусе - чем чаще слово встечается в других объектах, тем меньший вес оно будет иметь, т.к. это слово популярно и, возможно, равновероятно будет встерчаться во всех классах). Лучший результат на нашем датасете дал TfidfVectorizer без удаления стоп-слов, с использованием биграмм и с установленным порогом для максимальной частоты появления слов в документе."
   ]
  },
  {
   "cell_type": "code",
   "execution_count": 8,
   "metadata": {},
   "outputs": [],
   "source": [
    "vectorizer = TfidfVectorizer(ngram_range=(1,2), max_df=0.5)\n",
    "X = vectorizer.fit_transform(corpus)\n",
    "\n",
    "y = train.id"
   ]
  },
  {
   "cell_type": "markdown",
   "metadata": {},
   "source": [
    "### 3. Обучение моделей"
   ]
  },
  {
   "cell_type": "markdown",
   "metadata": {},
   "source": [
    "Для начала попробуем три довольно схожие простые линейные модели - логистическую регессию, линейный метод опорных векторов и SGDClassifier, который, по сути, может быть одним из вышеупомянутых алгоритмов в зависимости от настройки гиперпараметров. \n",
    "\n",
    "Напишем формулы для проверки качества моделей и подбора гиперпараметров. Хотя целевой метрикой у нас и выступает Accuracy, но тюнить мы будем по ROC-AUC, а Accuracy попробуем улучшить потом с помощью изменения порога для вероятностей отнесения к тому или иному классу."
   ]
  },
  {
   "cell_type": "code",
   "execution_count": 9,
   "metadata": {},
   "outputs": [],
   "source": [
    "# функция для кросс-валидации по трем фолдам, расчитывает ROC-AUC и Accuracy\n",
    "def cross_val(model, features):\n",
    "    cv = cross_val_score(model, features, y, cv=4, scoring='roc_auc')\n",
    "    cv2 = cross_val_score(model, features, y, cv=4, scoring='accuracy')\n",
    "    print('ROC-AUC: {}, Accuracy: {}'.format(round(cv.mean(), 3), round(cv2.mean(), 3)))\n",
    "    \n",
    "# функция для тюнинга гиперпараметров с помощью GridSearchCV или RandomizedSearchCV\n",
    "def search(model, params, features, search='grid'):\n",
    "    if search == 'grid':\n",
    "        clf = GridSearchCV(model, params, cv=4, scoring=['roc_auc', 'accuracy'], refit='roc_auc', n_jobs=-1)\n",
    "    if search == 'random':\n",
    "        clf = RandomizedSearchCV(model, params, cv=4, scoring=['roc_auc', 'accuracy'], \n",
    "                                 refit='roc_auc', n_jobs=-1, random_state=123)\n",
    "    clf.fit(features, y)\n",
    "    print('Best score:', round(clf.best_score_, 2))\n",
    "    print('Parameters:', clf.best_params_)"
   ]
  },
  {
   "cell_type": "code",
   "execution_count": 10,
   "metadata": {},
   "outputs": [
    {
     "name": "stdout",
     "output_type": "stream",
     "text": [
      "ROC-AUC: 0.856, Accuracy: 0.71\n"
     ]
    }
   ],
   "source": [
    "logreg = LogisticRegression()\n",
    "cross_val(logreg, X)"
   ]
  },
  {
   "cell_type": "code",
   "execution_count": 11,
   "metadata": {},
   "outputs": [
    {
     "name": "stdout",
     "output_type": "stream",
     "text": [
      "Best score: 0.86\n",
      "Parameters: {'class_weight': None, 'penalty': 'l2', 'solver': 'liblinear'}\n"
     ]
    }
   ],
   "source": [
    "logreg_params = {'penalty': ['l1', 'l2'],\n",
    "                'class_weight': ['balanced', None],\n",
    "                'solver': ['lbfgs', 'liblinear']}\n",
    "search(logreg, logreg_params, X)"
   ]
  },
  {
   "cell_type": "code",
   "execution_count": 12,
   "metadata": {},
   "outputs": [
    {
     "name": "stdout",
     "output_type": "stream",
     "text": [
      "ROC-AUC: 0.854, Accuracy: 0.774\n"
     ]
    }
   ],
   "source": [
    "sgd = SGDClassifier(random_state=123)\n",
    "cross_val(sgd, X)"
   ]
  },
  {
   "cell_type": "code",
   "execution_count": 13,
   "metadata": {},
   "outputs": [
    {
     "name": "stdout",
     "output_type": "stream",
     "text": [
      "Best score: 0.86\n",
      "Parameters: {'eta0': 0.9, 'learning_rate': 'constant', 'loss': 'log', 'penalty': 'l2'}\n"
     ]
    }
   ],
   "source": [
    "sgd_params = {'loss': ['hinge', 'log', 'modified_huber', 'squared_hinge', 'perceptron'],\n",
    "              'penalty': ['l1', 'l2'],\n",
    "              'learning_rate': ['constant'],\n",
    "              'eta0': np.arange(0.1, 1, 0.1)}\n",
    "search(sgd, sgd_params, X)"
   ]
  },
  {
   "cell_type": "code",
   "execution_count": 14,
   "metadata": {},
   "outputs": [
    {
     "name": "stdout",
     "output_type": "stream",
     "text": [
      "ROC-AUC: 0.859, Accuracy: 0.779\n"
     ]
    }
   ],
   "source": [
    "svc = LinearSVC(random_state=123)\n",
    "cross_val(svc, X)"
   ]
  },
  {
   "cell_type": "code",
   "execution_count": 15,
   "metadata": {},
   "outputs": [
    {
     "name": "stdout",
     "output_type": "stream",
     "text": [
      "Best score: 0.86\n",
      "Parameters: {'class_weight': 'balanced', 'dual': False, 'loss': 'squared_hinge', 'penalty': 'l2'}\n"
     ]
    }
   ],
   "source": [
    "svc_params = {'penalty': ['l1', 'l2'],\n",
    "              'loss': ['hinge', 'squared_hinge'],\n",
    "              'class_weight': ['balanced', None],\n",
    "              'dual': [True, False]}\n",
    "search(svc, svc_params, X)"
   ]
  },
  {
   "cell_type": "markdown",
   "metadata": {},
   "source": [
    "Как и следовало ожидать, все три модели показали примерно одинаковые результаты - даже подбор гиперпараметров мало что дал. Попробуем объединить их в ансамбль и посмотрим на результат."
   ]
  },
  {
   "cell_type": "code",
   "execution_count": 16,
   "metadata": {},
   "outputs": [
    {
     "name": "stdout",
     "output_type": "stream",
     "text": [
      "ROC-AUC: 0.86, Accuracy: 0.782\n"
     ]
    }
   ],
   "source": [
    "logreg = LogisticRegression(solver='liblinear')\n",
    "sgd = SGDClassifier(random_state=123, eta0=0.9, learning_rate='constant', loss='log')\n",
    "svc = LinearSVC(random_state=123, class_weight='balanced', dual=False)\n",
    "\n",
    "estimators = [('LogReg', logreg), ('SGD', sgd), ('LinearSVC', svc)]\n",
    "stack = StackingClassifier(estimators=estimators, n_jobs=-1, cv=4)\n",
    "\n",
    "cross_val(stack, X)"
   ]
  },
  {
   "cell_type": "markdown",
   "metadata": {},
   "source": [
    "ROC-AUC все тот же, Accuracy немного подрос. Поскольку у нас был небольшой дисбаланс классов, то попробуем еще поработать с порогом - возможно это даст прирост к целевой метрике."
   ]
  },
  {
   "cell_type": "code",
   "execution_count": 17,
   "metadata": {},
   "outputs": [],
   "source": [
    "def find_threshold(model, X):\n",
    "    accuracies, thresholds = [], []\n",
    "    kf = KFold(n_splits=4)\n",
    "    kf.get_n_splits(X)\n",
    "    for train_index, test_index in kf.split(X):\n",
    "        X_train, X_test = X[train_index], X[test_index]\n",
    "        y_train, y_test = y[train_index], y[test_index]\n",
    "        model.fit(X_train, y_train)\n",
    "        probabilities = model.predict_proba(X_test)[:, 1]\n",
    "        best_accuracy, best_threshold = 0, 0\n",
    "        for threshold in np.arange(0.3, 0.8, 0.05):\n",
    "            predictions = (probabilities > threshold).astype('int')\n",
    "            accuracy = accuracy_score(y_test, predictions)\n",
    "            if accuracy > best_accuracy:\n",
    "                best_accuracy = accuracy\n",
    "                best_threshold = threshold\n",
    "        accuracies.append(best_accuracy)\n",
    "        thresholds.append(round(best_threshold, 2))\n",
    "    print(accuracies)\n",
    "    print(thresholds)"
   ]
  },
  {
   "cell_type": "code",
   "execution_count": 18,
   "metadata": {},
   "outputs": [
    {
     "name": "stdout",
     "output_type": "stream",
     "text": [
      "[0.798, 0.774, 0.784, 0.796]\n",
      "[0.5, 0.4, 0.65, 0.45]\n"
     ]
    }
   ],
   "source": [
    "find_threshold(stack, X)"
   ]
  },
  {
   "cell_type": "markdown",
   "metadata": {},
   "source": [
    "Оптимальный порог колеблется около стандартных 0.5, поэтому не будем ничего менять. Проверим полученную модель на тесте."
   ]
  },
  {
   "cell_type": "code",
   "execution_count": 19,
   "metadata": {},
   "outputs": [],
   "source": [
    "def predict_test(model, X_test, threshold=0.5):\n",
    "    probabilities = model.predict_proba(X_test)[:, 1]\n",
    "    predictions = (probabilities > threshold).astype('int')\n",
    "    submission = test.drop('text', axis=1)\n",
    "    submission['y'] = predictions\n",
    "    submission.to_csv('submission.csv', index=False)"
   ]
  },
  {
   "cell_type": "code",
   "execution_count": 20,
   "metadata": {},
   "outputs": [],
   "source": [
    "test_corpus = preprocessing(test.text)\n",
    "X_test = vectorizer.transform(test_corpus)\n",
    "\n",
    "stack = StackingClassifier(estimators=estimators, n_jobs=-1, cv=4).fit(X, y)\n",
    "predict_test(stack, X_test)"
   ]
  },
  {
   "attachments": {
    "image.png": {
     "image/png": "[encoded data removed]"
    }
   },
   "cell_type": "markdown",
   "metadata": {},
   "source": [
    "![image.png](attachment:image.png)\n",
    "\n",
    "Accuracy - 0.8 и 131 место на лидерборде. Неплохо, но попробуем получить результат лучше)\n",
    "\n",
    "### 4. BERT\n",
    "\n",
    "Беспроигрышный вариант - использовать BERT, который на сегоднешний день является лучшим алгоритмом для работы с текстом. Однако BERT слишком ресурсоемкий, поэтому я попробую взять его упрощенную версию - DistilBERT в связке c логистической регрессией. По сути мы не будем дообучать нейросеть, а просто прогоним через уже предобученную сетку наши данные и получим на выходе векторы (имя тому эмбендинг), которые подадим на вход логистической регрессии."
   ]
  },
  {
   "cell_type": "code",
   "execution_count": 21,
   "metadata": {},
   "outputs": [],
   "source": [
    "# загружаем предобученные токенизатор и модель\n",
    "tokenizer = DistilBertTokenizer.from_pretrained('distilbert-base-uncased')\n",
    "model = DistilBertModel.from_pretrained('distilbert-base-uncased')"
   ]
  },
  {
   "cell_type": "code",
   "execution_count": 22,
   "metadata": {},
   "outputs": [],
   "source": [
    "def bert(data):\n",
    "    \n",
    "    # токенизируем - разбиваем текст на части и приводим к формату пригодному для BERT \n",
    "    tokenized = data.apply((lambda x: tokenizer.encode(x, add_special_tokens=True)))\n",
    "    \n",
    "    # паддинг - приведение векторовов к одной длине (находим максимальную длину вектора, если меньше, то заполняем 0)\n",
    "    max_len = 0\n",
    "    for i in tokenized.values:\n",
    "        if len(i) > max_len:\n",
    "            max_len = len(i)\n",
    "    padded = np.array([i + [0]*(max_len-len(i)) for i in tokenized.values])\n",
    "    \n",
    "    # после этого нужно сделать маску, отмаркировав где у нас слова, а где пропуски\n",
    "    attention_mask = np.where(padded != 0, 1, 0)\n",
    "    \n",
    "    # теперь все комментарии прогоняются через модель\n",
    "    input_ids = torch.LongTensor(padded)  \n",
    "    attention_mask = torch.tensor(attention_mask)\n",
    "    with torch.no_grad():\n",
    "        last_hidden_states = model(input_ids, attention_mask=attention_mask)\n",
    "    \n",
    "    # нас интересует только выход BERT для классификации (он первый)\n",
    "    features = last_hidden_states[0][:,0,:].numpy()\n",
    "    \n",
    "    # в features содержится 2d массив, который состоит из эмбеддингов всех предложений нашего набора данных\n",
    "    return features"
   ]
  },
  {
   "cell_type": "code",
   "execution_count": 23,
   "metadata": {},
   "outputs": [],
   "source": [
    "train_bert = bert(train.text)\n",
    "test_bert = bert(test.text)"
   ]
  },
  {
   "cell_type": "markdown",
   "metadata": {},
   "source": [
    "Мы прогнали через DistilBERT наши датасеты и теперь обучим логистическую регрессию."
   ]
  },
  {
   "cell_type": "code",
   "execution_count": 24,
   "metadata": {},
   "outputs": [
    {
     "name": "stdout",
     "output_type": "stream",
     "text": [
      "ROC-AUC: 0.924, Accuracy: 0.855\n"
     ]
    }
   ],
   "source": [
    "logreg = LogisticRegression(solver='liblinear')\n",
    "cross_val(logreg, train_bert)"
   ]
  },
  {
   "cell_type": "code",
   "execution_count": 25,
   "metadata": {},
   "outputs": [
    {
     "name": "stdout",
     "output_type": "stream",
     "text": [
      "[0.84, 0.866, 0.864, 0.866]\n",
      "[0.55, 0.55, 0.45, 0.35]\n"
     ]
    }
   ],
   "source": [
    "# посмотрим поможет ли нам изменение порога\n",
    "logreg = LogisticRegression(solver='liblinear')\n",
    "find_threshold(logreg, train_bert)"
   ]
  },
  {
   "cell_type": "markdown",
   "metadata": {},
   "source": [
    "Попробуем немного уменьшить порог на тесте."
   ]
  },
  {
   "cell_type": "code",
   "execution_count": 26,
   "metadata": {},
   "outputs": [],
   "source": [
    "logreg = LogisticRegression(solver='liblinear').fit(train_bert, y)\n",
    "predict_test(logreg, test_bert, threshold=0.45)"
   ]
  },
  {
   "attachments": {
    "image.png": {
     "image/png": "[encoded data removed]"
    }
   },
   "cell_type": "markdown",
   "metadata": {},
   "source": [
    "![image.png](attachment:image.png)\n",
    "\n",
    "Accuracy - 0.86444 и 12 место. Можно было бы попробовать еще улучшить результат, если бы мы использовали полную версию BERT и дообучили его на наших данных, но это очень затратно в плане ресурсов и времени, поэтому остановимся на этом."
   ]
  },
  {
   "cell_type": "markdown",
   "metadata": {},
   "source": [
    "### 5. Вывод\n",
    "\n",
    "Как и многие другие, задачу определения тональности текста можно решить двумя способами: менее затратным, но уступающим по качеству с помощью простых алгоритмов машинного обучения или ресурсоемким, но более точным с использованием нейросети. Выбор зависит от целей и возможностей. В проекте же я попытался найти золотую середину, которая дала неплохой результат, используя мощность лишь одного ноутбука."
   ]
  }
 ],
 "metadata": {
  "kernelspec": {
   "display_name": "Python 3",
   "language": "python",
   "name": "python3"
  },
  "language_info": {
   "codemirror_mode": {
    "name": "ipython",
    "version": 3
   },
   "file_extension": ".py",
   "mimetype": "text/x-python",
   "name": "python",
   "nbconvert_exporter": "python",
   "pygments_lexer": "ipython3",
   "version": "3.8.3"
  }
 },
 "nbformat": 4,
 "nbformat_minor": 4
}
